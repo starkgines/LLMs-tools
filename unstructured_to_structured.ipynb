{
 "cells": [
  {
   "cell_type": "markdown",
   "metadata": {},
   "source": [
    "### Library used"
   ]
  },
  {
   "cell_type": "code",
   "execution_count": null,
   "metadata": {},
   "outputs": [],
   "source": [
    "import pandas as pd\n",
    "from typing import Optional, Sequence, List\n",
    "from langchain.output_parsers import PydanticOutputParser\n",
    "from langchain.prompts import PromptTemplate\n",
    "from pydantic import BaseModel,Field\n",
    "from ollama import Client\n",
    "import json"
   ]
  },
  {
   "cell_type": "markdown",
   "metadata": {},
   "source": [
    "#### The data"
   ]
  },
  {
   "cell_type": "code",
   "execution_count": 102,
   "metadata": {},
   "outputs": [],
   "source": [
    "empanada = \"\"\"View CSAF\n",
    "1. EXECUTIVE SUMMARY\n",
    "\n",
    "CVSS v4 9.3\n",
    "ATTENTION: Exploitable remotely/Low attack complexity\n",
    "Vendor: Planet Technology\n",
    "Equipment: Planet WGS-804HPT\n",
    "Vulnerabilities: Stack-based Buffer Overflow, Improper Neutralization of Special Elements used in an OS Command ('OS Command Injection'), Integer Underflow (Wrap or Wraparound)\n",
    "\n",
    "2. RISK EVALUATION\n",
    "Successful exploitation of these vulnerabilities could result in remote code execution.\n",
    "3. TECHNICAL DETAILS\n",
    "3.1 AFFECTED PRODUCTS\n",
    "The following versions of Planet WGS-804HPT, an industrial switch, are affected:\n",
    "\n",
    "Planet WGS-804HPT: Version v1.305b210531\n",
    "\n",
    "3.2 Vulnerability Overview\n",
    "3.2.1 STACK-BASED BUFFER OVERFLOW CWE-121\n",
    "The affected product is vulnerable to a stack-based buffer overflow. An unauthenticated attacker could send a malicious HTTP request that the webserver fails to properly check input size before copying data to the stack, potentially allowing remote code execution.\n",
    "CVE-2024-48871 has been assigned to this vulnerability. A CVSS v3 base score of 9.8 has been calculated; the CVSS vector string is (AV:N/AC:L/PR:N/UI:N/S:U/C:H/I:H/A:H).\n",
    "A CVSS v4 score has also been calculated for CVE-2024-48871. A base score of 9.3 has been calculated; the CVSS vector string is (AV:N/AC:L/AT:N/PR:N/UI:N/VC:H/VI:H/VA:H/SC:N/SI:N/SA:N).\n",
    "3.2.2 IMPROPER NEUTRALIZATION OF SPECIAL ELEMENTS USED IN AN OS COMMAND ('OS COMMAND INJECTION') CWE-78\n",
    "The affected product is vulnerable to a command injection. An unauthenticated attacker could send commands through a malicious HTTP request which could result in remote code execution.\n",
    "CVE-2024-52320 has been assigned to this vulnerability. A CVSS v3 base score of 9.8 has been calculated; the CVSS vector string is (AV:N/AC:L/PR:N/UI:N/S:U/C:H/I:H/A:H).\n",
    "A CVSS v4 score has also been calculated for CVE-2024-52320. A base score of 9.3 has been calculated; the CVSS vector string is (AV:N/AC:L/AT:N/PR:N/UI:N/VC:H/VI:H/VA:H/SC:N/SI:N/SA:N).\n",
    "3.2.3 INTEGER UNDERFLOW (WRAP OR WRAPAROUND) CWE-191\n",
    "The affected product is vulnerable to an integer underflow. An unauthenticated attacker could send a malformed HTTP Requesty, which could allow the attacker to crash the program.\n",
    "CVE-2024-52558 has been assigned to this vulnerability. A CVSS v3 base score of 5.3 has been calculated; the CVSS vector string is (AV:N/AC:L/PR:N/UI:N/S:U/C:N/I:N/A:L).\n",
    "A CVSS v4 score has also been calculated for CVE-2024-52558. A base score of 6.9 has been calculated; the CVSS vector string is (AV:N/AC:L/AT:N/PR:N/UI:N/VC:N/VI:N/VA:L/SC:N/SI:N/SA:N).\n",
    "3.3 BACKGROUND\n",
    "\n",
    "CRITICAL INFRASTRUCTURE SECTORS: Critical Manufacturing\n",
    "COUNTRIES/AREAS DEPLOYED: Worldwide\n",
    "COMPANY HEADQUARTERS LOCATION: Taiwan\n",
    "\n",
    "3.4 RESEARCHER\n",
    "Tomer Goldschmidt of Claroty Research - Team82 reported this vulnerability to CISA.\n",
    "4. MITIGATIONS\n",
    "Planet Technology recommends users upgrade to version 1.305b241111 or later.\n",
    "CISA recommends users take defensive measures to minimize the risk of exploitation of these vulnerabilities, such as:\n",
    "\n",
    "Minimize network exposure for all control system devices and/or systems, ensuring they are not accessible from the internet.\n",
    "Locate control system networks and remote devices behind firewalls and isolating them from business networks.\n",
    "When remote access is required, use more secure methods, such as Virtual Private Networks (VPNs), recognizing VPNs may have vulnerabilities and should be updated to the most current version available. Also recognize VPN is only as secure as the connected devices.\n",
    "\n",
    "CISA reminds organizations to perform proper impact analysis and risk assessment prior to deploying defensive measures.\n",
    "CISA also provides a section for control systems security recommended practices on the ICS webpage on cisa.gov/ics. Several CISA products detailing cyber defense best practices are available for reading and download, including Improving Industrial Control Systems Cybersecurity with Defense-in-Depth Strategies.\n",
    "CISA encourages organizations to implement recommended cybersecurity strategies for proactive defense of ICS assets.\n",
    "Additional mitigation guidance and recommended practices are publicly available on the ICS webpage at cisa.gov/ics in the technical information paper, ICS-TIP-12-146-01B--Targeted Cyber Intrusion Detection and Mitigation Strategies.\n",
    "Organizations observing suspected malicious activity should follow established internal procedures and report findings to CISA for tracking and correlation against other incidents.\n",
    "No known public exploitation specifically targeting these vulnerabilities has been reported to CISA at this time.\n",
    "5. UPDATE HISTORY\n",
    "\n",
    "December 05, 2024: Initial Publication\n",
    "\n",
    "\"\"\""
   ]
  },
  {
   "cell_type": "markdown",
   "metadata": {},
   "source": [
    "#### The main function\n",
    "-Insert a image to represent the logic inside the image like a post\n",
    "-Insert a explication of the model and the logic"
   ]
  },
  {
   "cell_type": "code",
   "execution_count": 107,
   "metadata": {},
   "outputs": [],
   "source": [
    "def structured_outputs(struc_model,promp_query, model='llama3.1'):\n",
    "    \"\"\"\n",
    "    Return a Pydantic BaseModel instance from a unstructured description input.\n",
    "\n",
    "    Args:\n",
    "        struc_model (BaseModel): The Pydantic BaseModel.\n",
    "        promp_query (str): The unstructured description.\n",
    "        model (str): name of the model running locally.\n",
    "\n",
    "    \"\"\"\n",
    "    parser = PydanticOutputParser(pydantic_object=struc_model)\n",
    "    prompt = PromptTemplate(\n",
    "        template=\"Answer the user query, and only response a JSON format without any other text outside the format text \\n{format_instructions}\\n{query}\\n\",\n",
    "        input_variables=[\"query\"],\n",
    "        partial_variables={\"format_instructions\": parser.get_format_instructions()},\n",
    "    )\n",
    "    \n",
    "    client = Client(host='http://localhost:11434')\n",
    "    response = client.chat(messages=[\n",
    "    {\n",
    "        'role': 'user',\n",
    "        'content': prompt.format(query=promp_query),\n",
    "    }\n",
    "        ],\n",
    "    options={'temperature': 0},\n",
    "    model=model,\n",
    "    format=parser.model_json_schema(),\n",
    "    ) \n",
    "    structured_output = struc_model.model_validate_json(response.message.content)\n",
    "    return structured_output\n",
    "\n",
    "def save_cisa_structured_to_json(data, file_path):\n",
    "    \"\"\"\n",
    "    Save a Pydantic BaseModel instance to a JSON file.\n",
    "\n",
    "    Args:\n",
    "        data (BaseModel): The Pydantic BaseModel instance to save.\n",
    "        file_path (str): The path to the JSON file.\n",
    "    \"\"\"\n",
    "    try:\n",
    "        with open(file_path, 'w', encoding='utf-8') as file:\n",
    "            json.dump(data.dict(), file, indent=4)\n",
    "        print(f\"Structured data saved to {file_path}\")\n",
    "    except Exception as e:\n",
    "        print(f\"An error occurred while saving data: {e}\")\n"
   ]
  },
  {
   "cell_type": "markdown",
   "metadata": {},
   "source": [
    "#### How to use "
   ]
  },
  {
   "cell_type": "code",
   "execution_count": null,
   "metadata": {},
   "outputs": [],
   "source": [
    "# Pydantic models for competitive intelligence\n",
    "class Vulnerability(BaseModel):\n",
    "    cvss_score: str\n",
    "    attention_note: str\n",
    "    vendor: str\n",
    "    affected_products: Optional[list]\n",
    "    cve_identifiers: Optional[list]\n",
    "    short_description: str\n",
    "    score: int\n",
    "    mitigation: str\n",
    "\n",
    "\n",
    "cisa_structured = structured_outputs(Vulnerability,empanada,model='llama3.1')\n",
    "cisa_structured"
   ]
  },
  {
   "cell_type": "code",
   "execution_count": null,
   "metadata": {},
   "outputs": [],
   "source": [
    "# Save the data inside a file\n",
    "\n",
    "def save_cisa_structured_to_json(data, file_path):\n",
    "    \"\"\"\n",
    "    Save a Pydantic BaseModel instance to a JSON file.\n",
    "\n",
    "    Args:\n",
    "        data (BaseModel): The Pydantic BaseModel instance to save.\n",
    "        file_path (str): The path to the JSON file.\n",
    "    \"\"\"\n",
    "    try:\n",
    "        with open(file_path, 'w', encoding='utf-8') as file:\n",
    "            json.dump(data.dict(), file, indent=4)\n",
    "        print(f\"Structured data saved to {file_path}\")\n",
    "    except Exception as e:\n",
    "        print(f\"An error occurred while saving data: {e}\")\n",
    "\n",
    "# Example usage of save_cisa_structured_to_json\n",
    "save_cisa_structured_to_json(cisa_structured, './data/cisa_structured.json')\n"
   ]
  },
  {
   "cell_type": "markdown",
   "metadata": {},
   "source": [
    "#### Some issues"
   ]
  },
  {
   "cell_type": "code",
   "execution_count": null,
   "metadata": {},
   "outputs": [],
   "source": [
    "# Put here a error example"
   ]
  }
 ],
 "metadata": {
  "kernelspec": {
   "display_name": "myenv",
   "language": "python",
   "name": "python3"
  },
  "language_info": {
   "codemirror_mode": {
    "name": "ipython",
    "version": 3
   },
   "file_extension": ".py",
   "mimetype": "text/x-python",
   "name": "python",
   "nbconvert_exporter": "python",
   "pygments_lexer": "ipython3",
   "version": "3.12.8"
  }
 },
 "nbformat": 4,
 "nbformat_minor": 2
}
